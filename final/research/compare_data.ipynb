{
 "cells": [
  {
   "cell_type": "code",
   "execution_count": 1,
   "metadata": {},
   "outputs": [
    {
     "name": "stdout",
     "output_type": "stream",
     "text": [
      "0.0    13770\n",
      "1.0    13770\n",
      "Name: Result, dtype: int64\n",
      "Positive Label: 0\n",
      "Negative Label: 1\n"
     ]
    }
   ],
   "source": [
    "import pandas as pd\n",
    "\n",
    "# Load the processed dataset\n",
    "processed_data = pd.read_csv('../dataset/pd.csv')\n",
    "\n",
    "# Examine the distribution of outcome variable in processed dataset\n",
    "outcome_counts = processed_data['Result'].value_counts()\n",
    "\n",
    "# Print the frequencies of each outcome value\n",
    "print(outcome_counts)\n",
    "\n",
    "# Compare with the distribution in the raw dataset (assuming raw dataset is also loaded)\n",
    "# raw_data = pd.read_csv('raw_dataset.csv')\n",
    "# raw_outcome_counts = raw_data['outcome'].value_counts()\n",
    "# print(raw_outcome_counts)\n",
    "\n",
    "# Infer the coding scheme based on the frequencies\n",
    "if outcome_counts.idxmax() == 1:\n",
    "    positive_label = 1\n",
    "    negative_label = 0\n",
    "else:\n",
    "    positive_label = 0\n",
    "    negative_label = 1\n",
    "\n",
    "print(\"Positive Label:\", positive_label)\n",
    "print(\"Negative Label:\", negative_label)\n"
   ]
  },
  {
   "cell_type": "code",
   "execution_count": 2,
   "metadata": {},
   "outputs": [
    {
     "name": "stdout",
     "output_type": "stream",
     "text": [
      "0.0    13770\n",
      "1.0    13770\n",
      "Name: Result, dtype: int64\n",
      "Positive Label: 1\n",
      "Negative Label: 0\n"
     ]
    }
   ],
   "source": [
    "import pandas as pd\n",
    "\n",
    "# Load the processed dataset\n",
    "processed_data = pd.read_csv('../dataset/pd.csv')\n",
    "\n",
    "# Examine the distribution of the outcome variable in the processed dataset\n",
    "outcome_counts = processed_data['Result'].value_counts()\n",
    "\n",
    "# Print the frequencies of each outcome value\n",
    "print(outcome_counts)\n",
    "\n",
    "# Infer the coding scheme based on the frequencies\n",
    "if outcome_counts[0] > outcome_counts[1]:\n",
    "    positive_label = 0\n",
    "    negative_label = 1\n",
    "else:\n",
    "    positive_label = 1\n",
    "    negative_label = 0\n",
    "\n",
    "print(\"Positive Label:\", positive_label)\n",
    "print(\"Negative Label:\", negative_label)\n"
   ]
  }
 ],
 "metadata": {
  "kernelspec": {
   "display_name": "base",
   "language": "python",
   "name": "python3"
  },
  "language_info": {
   "codemirror_mode": {
    "name": "ipython",
    "version": 3
   },
   "file_extension": ".py",
   "mimetype": "text/x-python",
   "name": "python",
   "nbconvert_exporter": "python",
   "pygments_lexer": "ipython3",
   "version": "3.10.8"
  },
  "orig_nbformat": 4
 },
 "nbformat": 4,
 "nbformat_minor": 2
}
